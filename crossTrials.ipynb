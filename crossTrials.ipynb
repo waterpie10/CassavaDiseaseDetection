{
 "cells": [
  {
   "cell_type": "markdown",
   "metadata": {},
   "source": [
    "# Further Experiments: Performing cross trials of data"
   ]
  },
  {
   "cell_type": "code",
   "execution_count": 1,
   "metadata": {},
   "outputs": [
    {
     "name": "stdout",
     "output_type": "stream",
     "text": [
      "All file paths are explicitly defined.\n"
     ]
    }
   ],
   "source": [
    "import scipy.io\n",
    "import numpy as np\n",
    "import os\n",
    "from sklearn.preprocessing import StandardScaler\n",
    "from sklearn.svm import SVC\n",
    "from sklearn.metrics import accuracy_score\n",
    "\n",
    "# --- Define Full, Explicit Dataset Paths ---\n",
    "# This approach is robust and avoids errors from constructing paths.\n",
    "\n",
    "# E4 Trial Paths\n",
    "E4_UNINFECTED_PATH = 'data/TME204-Patch_E4_E6_E8_28DPI_Dataset/E4-TME204/E4_TME204_28dpi_Mar_5_2020/Uninfected/E4_TME204_28dpi_Mar_5_2020_Uninfected_11_06_23_18.mat'\n",
    "E4_UCBSV_PATH = 'data/TME204-Patch_E4_E6_E8_28DPI_Dataset/E4-TME204/E4_TME204_28dpi_Mar_5_2020/UCBSV/E4_TME204_28dpi_Mar_5_2020_UCBSV_11_06_23_21.mat'\n",
    "\n",
    "# E6 Trial Paths\n",
    "E6_UNINFECTED_PATH = 'data/TME204-Patch_E4_E6_E8_28DPI_Dataset/E6-TME204/E6_TME204_28dpi_Jul_29_2020/Uninfected/E6_TME204_28dpi_Jul_29_2020_Uninfected_11_06_23_29.mat'\n",
    "E6_UCBSV_PATH = 'data/TME204-Patch_E4_E6_E8_28DPI_Dataset/E6-TME204/E6_TME204_28dpi_Jul_29_2020/UCBSV/E6_TME204_28dpi_Jul_29_2020_UCBSV_11_06_23_24.mat'\n",
    "\n",
    "# E8 Trial Paths\n",
    "E8_UNINFECTED_PATH = 'data/TME204-Patch_E4_E6_E8_28DPI_Dataset/E8-TME204/E8_TME204_28dpi_Dec_16_2020/Uninfected/E8_TME204_28dpi_Dec_16_2020_Uninfected_11_06_23_33.mat'\n",
    "E8_UCBSV_PATH = 'data/TME204-Patch_E4_E6_E8_28DPI_Dataset/E8-TME204/E8_TME204_28dpi_Dec_16_2020/UCBSV/E8_TME204_28dpi_Dec_16_2020_UCBSV_11_06_23_36.mat'\n",
    "\n",
    "print(\"All file paths are explicitly defined.\")"
   ]
  },
  {
   "cell_type": "code",
   "execution_count": 2,
   "metadata": {},
   "outputs": [],
   "source": [
    "def load_and_prepare_data(file_path):\n",
    "    \"\"\"\n",
    "    Loads and prepares spectral data from a single .mat file,\n",
    "    handling potential inconsistencies in the file's internal structure.\n",
    "    \n",
    "    Args:\n",
    "        file_path (str): The full, direct path to the .mat file.\n",
    "\n",
    "    Returns:\n",
    "        tuple: A tuple containing (features_array, number_of_leaves).\n",
    "    \"\"\"\n",
    "    mat_data = scipy.io.loadmat(file_path, squeeze_me=True)\n",
    "    all_scans = mat_data['Patch']\n",
    "    \n",
    "    if all_scans.ndim == 0:\n",
    "        all_scans = np.array([all_scans])\n",
    "        \n",
    "    num_leaves = len(all_scans)\n",
    "    features = []\n",
    "\n",
    "    for scan_struct in all_scans:\n",
    "        mean_vals = scan_struct['mean_values']\n",
    "        \n",
    "        # This handles both \"boxed\" and direct array formats\n",
    "        if mean_vals.ndim == 0:\n",
    "            features.extend(mean_vals.item())\n",
    "        else:\n",
    "            features.extend(mean_vals)\n",
    "            \n",
    "    return np.array(features), num_leaves"
   ]
  },
  {
   "cell_type": "markdown",
   "metadata": {},
   "source": [
    "# Experiment 1: Train on E8, test on E6"
   ]
  },
  {
   "cell_type": "code",
   "execution_count": 3,
   "metadata": {},
   "outputs": [
    {
     "name": "stdout",
     "output_type": "stream",
     "text": [
      "--- Results: Train E8 / Test E6 ---\n",
      "Patch-Based Accuracy: 78.73%\n",
      "Leaf-Based Accuracy (Majority Vote): 88.57%\n"
     ]
    }
   ],
   "source": [
    "# --- Experiment 1: Train on E8 / Test on E6 ---\n",
    "\n",
    "# Load Training Data (E8)\n",
    "e8_uninfected_features, _ = load_and_prepare_data(E8_UNINFECTED_PATH)\n",
    "e8_ucbsv_features, _ = load_and_prepare_data(E8_UCBSV_PATH)\n",
    "X_train = np.concatenate([e8_uninfected_features, e8_ucbsv_features])\n",
    "y_train = np.concatenate([np.zeros(len(e8_uninfected_features)), np.ones(len(e8_ucbsv_features))])\n",
    "\n",
    "# Load Testing Data (E6)\n",
    "e6_uninfected_features, num_uninfected_leaves_e6 = load_and_prepare_data(E6_UNINFECTED_PATH)\n",
    "e6_ucbsv_features, num_ucbsv_leaves_e6 = load_and_prepare_data(E6_UCBSV_PATH)\n",
    "X_test = np.concatenate([e6_uninfected_features, e6_ucbsv_features])\n",
    "y_test = np.concatenate([np.zeros(len(e6_uninfected_features)), np.ones(len(e6_ucbsv_features))])\n",
    "\n",
    "# --- Train, Test, and Evaluate ---\n",
    "\n",
    "# 1. Scale data\n",
    "scaler = StandardScaler()\n",
    "X_train_scaled = scaler.fit_transform(X_train)\n",
    "X_test_scaled = scaler.transform(X_test)\n",
    "\n",
    "# 2. Train SVM\n",
    "svm = SVC(C=100, gamma=0.01, kernel='rbf', probability=True)\n",
    "svm.fit(X_train_scaled, y_train)\n",
    "\n",
    "# 3. Predict on patch level\n",
    "y_pred_patch = svm.predict(X_test_scaled)\n",
    "patch_accuracy = accuracy_score(y_test, y_pred_patch)\n",
    "print(f\"--- Results: Train E8 / Test E6 ---\")\n",
    "print(f\"Patch-Based Accuracy: {patch_accuracy * 100:.2f}%\")\n",
    "\n",
    "# 4. Majority Voting Evaluation\n",
    "num_patches_per_leaf = 9\n",
    "y_pred_leaf = []\n",
    "y_true_leaf = []\n",
    "\n",
    "# Uninfected leaves\n",
    "for i in range(num_uninfected_leaves_e6):\n",
    "    start = i * num_patches_per_leaf\n",
    "    patch_predictions = y_pred_patch[start : start + num_patches_per_leaf]\n",
    "    y_pred_leaf.append(np.bincount(patch_predictions.astype(int)).argmax())\n",
    "    y_true_leaf.append(0)\n",
    "\n",
    "# Infected leaves\n",
    "offset = len(e6_uninfected_features)\n",
    "for i in range(num_ucbsv_leaves_e6):\n",
    "    start = offset + (i * num_patches_per_leaf)\n",
    "    patch_predictions = y_pred_patch[start : start + num_patches_per_leaf]\n",
    "    y_pred_leaf.append(np.bincount(patch_predictions.astype(int)).argmax())\n",
    "    y_true_leaf.append(1)\n",
    "    \n",
    "leaf_accuracy = accuracy_score(y_true_leaf, y_pred_leaf)\n",
    "print(f\"Leaf-Based Accuracy (Majority Vote): {leaf_accuracy * 100:.2f}%\")"
   ]
  },
  {
   "cell_type": "code",
   "execution_count": 5,
   "metadata": {},
   "outputs": [
    {
     "name": "stdout",
     "output_type": "stream",
     "text": [
      "Libraries imported.\n"
     ]
    }
   ],
   "source": [
    "import scipy.io\n",
    "import numpy as np\n",
    "import os\n",
    "from sklearn.preprocessing import StandardScaler\n",
    "from sklearn.svm import SVC\n",
    "from sklearn.metrics import accuracy_score, confusion_matrix, classification_report\n",
    "import matplotlib.pyplot as plt\n",
    "import seaborn as sns\n",
    "\n",
    "print(\"Libraries imported.\")"
   ]
  },
  {
   "cell_type": "code",
   "execution_count": 7,
   "metadata": {},
   "outputs": [
    {
     "name": "stdout",
     "output_type": "stream",
     "text": [
      "All file paths are explicitly defined.\n"
     ]
    }
   ],
   "source": [
    "# --- Define Full, Explicit Dataset Paths ---\n",
    "E4_UNINFECTED_PATH = 'data/TME204-Patch_E4_E6_E8_28DPI_Dataset/E4-TME204/E4_TME204_28dpi_Mar_5_2020/Uninfected/E4_TME204_28dpi_Mar_5_2020_Uninfected_11_06_23_18.mat'\n",
    "E4_UCBSV_PATH = 'data/TME204-Patch_E4_E6_E8_28DPI_Dataset/E4-TME204/E4_TME204_28dpi_Mar_5_2020/UCBSV/E4_TME204_28dpi_Mar_5_2020_UCBSV_11_06_23_21.mat'\n",
    "E6_UNINFECTED_PATH = 'data/TME204-Patch_E4_E6_E8_28DPI_Dataset/E6-TME204/E6_TME204_28dpi_Jul_29_2020/Uninfected/E6_TME204_28dpi_Jul_29_2020_Uninfected_11_06_23_29.mat'\n",
    "E6_UCBSV_PATH = 'data/TME204-Patch_E4_E6_E8_28DPI_Dataset/E6-TME204/E6_TME204_28dpi_Jul_29_2020/UCBSV/E6_TME204_28dpi_Jul_29_2020_UCBSV_11_06_23_24.mat'\n",
    "E8_UNINFECTED_PATH = 'data/TME204-Patch_E4_E6_E8_28DPI_Dataset/E8-TME204/E8_TME204_28dpi_Dec_16_2020/Uninfected/E8_TME204_28dpi_Dec_16_2020_Uninfected_11_06_23_33.mat'\n",
    "E8_UCBSV_PATH = 'data/TME204-Patch_E4_E6_E8_28DPI_Dataset/E8-TME204/E8_TME204_28dpi_Dec_16_2020/UCBSV/E8_TME204_28dpi_Dec_16_2020_UCBSV_11_06_23_36.mat'\n",
    "print(\"All file paths are explicitly defined.\")\n",
    "\n",
    "def load_and_prepare_data(file_path):\n",
    "    # This function remains the same\n",
    "    mat_data = scipy.io.loadmat(file_path, squeeze_me=True)\n",
    "    all_scans = mat_data['Patch']\n",
    "    if all_scans.ndim == 0:\n",
    "        all_scans = np.array([all_scans])\n",
    "    num_leaves = len(all_scans)\n",
    "    features = []\n",
    "    for scan_struct in all_scans:\n",
    "        mean_vals = scan_struct['mean_values']\n",
    "        if mean_vals.ndim == 0:\n",
    "            features.extend(mean_vals.item())\n",
    "        else:\n",
    "            features.extend(mean_vals)\n",
    "    return np.array(features), num_leaves"
   ]
  },
  {
   "cell_type": "code",
   "execution_count": 8,
   "metadata": {},
   "outputs": [],
   "source": [
    "def run_cross_trial_experiment(train_uninfected_path, train_ucbsv_path, test_uninfected_path, test_ucbsv_path, train_name, test_name):\n",
    "    \"\"\"\n",
    "    Runs a full cross-trial experiment with detailed reporting.\n",
    "    \n",
    "    Args:\n",
    "        train_uninfected_path (str): Path to the uninfected training data.\n",
    "        train_ucbsv_path (str): Path to the infected training data.\n",
    "        test_uninfected_path (str): Path to the uninfected testing data.\n",
    "        test_ucbsv_path (str): Path to the infected testing data.\n",
    "        train_name (str): Name of the training dataset (e.g., 'E8').\n",
    "        test_name (str): Name of the testing dataset (e.g., 'E6').\n",
    "    \"\"\"\n",
    "    \n",
    "    print(f\"--- Starting Experiment: Train on {train_name} / Test on {test_name} ---\")\n",
    "    \n",
    "    # 1. Load Data\n",
    "    X_train_uninfected, _ = load_and_prepare_data(train_uninfected_path)\n",
    "    X_train_ucbsv, _ = load_and_prepare_data(train_ucbsv_path)\n",
    "    X_train = np.concatenate([X_train_uninfected, X_train_ucbsv])\n",
    "    y_train = np.concatenate([np.zeros(len(X_train_uninfected)), np.ones(len(X_train_ucbsv))])\n",
    "    \n",
    "    X_test_uninfected, num_uninfected_leaves = load_and_prepare_data(test_uninfected_path)\n",
    "    X_test_ucbsv, num_ucbsv_leaves = load_and_prepare_data(test_ucbsv_path)\n",
    "    X_test = np.concatenate([X_test_uninfected, X_test_ucbsv])\n",
    "    y_test = np.concatenate([np.zeros(len(X_test_uninfected)), np.ones(len(X_test_ucbsv))])\n",
    "\n",
    "    print(f\"Training data ({train_name}): {len(y_train)} patches\")\n",
    "    print(f\"Testing data ({test_name}): {len(y_test)} patches from {num_uninfected_leaves + num_ucbsv_leaves} leaves\")\n",
    "    \n",
    "    # 2. Scale and Train\n",
    "    scaler = StandardScaler().fit(X_train)\n",
    "    X_train_scaled = scaler.transform(X_train)\n",
    "    X_test_scaled = scaler.transform(X_test)\n",
    "    \n",
    "    svm = SVC(C=100, gamma=0.01, kernel='rbf').fit(X_train_scaled, y_train)\n",
    "\n",
    "    # 3. Leaf-level prediction via Majority Voting\n",
    "    y_pred_patch = svm.predict(X_test_scaled)\n",
    "    y_pred_leaf = []\n",
    "    y_true_leaf = []\n",
    "    num_patches_per_leaf = 9\n",
    "\n",
    "    for i in range(num_uninfected_leaves):\n",
    "        start = i * num_patches_per_leaf\n",
    "        patch_preds = y_pred_patch[start : start + num_patches_per_leaf]\n",
    "        y_pred_leaf.append(np.bincount(patch_preds.astype(int)).argmax())\n",
    "        y_true_leaf.append(0)\n",
    "\n",
    "    offset = len(X_test_uninfected)\n",
    "    for i in range(num_ucbsv_leaves):\n",
    "        start = offset + (i * num_patches_per_leaf)\n",
    "        patch_preds = y_pred_patch[start : start + num_patches_per_leaf]\n",
    "        y_pred_leaf.append(np.bincount(patch_preds.astype(int)).argmax())\n",
    "        y_true_leaf.append(1)\n",
    "        \n",
    "    # 4. Reporting\n",
    "    print(\"\\n--- Detailed Leaf-Level Report ---\")\n",
    "    print(f\"The model was trained on the full {train_name} dataset and tested on the full {test_name} dataset.\")\n",
    "    print(\"Leaf classification is determined by a 'majority vote' of its 9 constituent patches.\")\n",
    "    \n",
    "    # Classification Report\n",
    "    print(\"\\nClassification Report:\")\n",
    "    print(classification_report(y_true_leaf, y_pred_leaf, target_names=['Uninfected', 'Infected']))\n",
    "    \n",
    "    # Confusion Matrix\n",
    "    print(\"Confusion Matrix:\")\n",
    "    cm = confusion_matrix(y_true_leaf, y_pred_leaf)\n",
    "    print(cm)\n",
    "    \n",
    "    # Visualized Confusion Matrix\n",
    "    plt.figure(figsize=(6, 5))\n",
    "    sns.heatmap(cm, annot=True, fmt='d', cmap='Blues', xticklabels=['Uninfected', 'Infected'], yticklabels=['Uninfected', 'Infected'])\n",
    "    plt.xlabel('Predicted Label')\n",
    "    plt.ylabel('True Label')\n",
    "    plt.title(f'Confusion Matrix: Train {train_name} / Test {test_name}')\n",
    "    plt.show()\n",
    "    \n",
    "    print(\"-\" * 50 + \"\\n\")"
   ]
  },
  {
   "cell_type": "code",
   "execution_count": 9,
   "metadata": {},
   "outputs": [
    {
     "name": "stdout",
     "output_type": "stream",
     "text": [
      "--- Starting Experiment: Train on E8 / Test on E6 ---\n",
      "Training data (E8): 324 patches\n",
      "Testing data (E6): 315 patches from 35 leaves\n",
      "\n",
      "--- Detailed Leaf-Level Report ---\n",
      "The model was trained on the full E8 dataset and tested on the full E6 dataset.\n",
      "Leaf classification is determined by a 'majority vote' of its 9 constituent patches.\n",
      "\n",
      "Classification Report:\n",
      "              precision    recall  f1-score   support\n",
      "\n",
      "  Uninfected       0.93      0.82      0.88        17\n",
      "    Infected       0.85      0.94      0.89        18\n",
      "\n",
      "    accuracy                           0.89        35\n",
      "   macro avg       0.89      0.88      0.88        35\n",
      "weighted avg       0.89      0.89      0.89        35\n",
      "\n",
      "Confusion Matrix:\n",
      "[[14  3]\n",
      " [ 1 17]]\n"
     ]
    },
    {
     "data": {
      "image/png": "[encoded data removed]",
      "text/plain": [
       "<Figure size 600x500 with 2 Axes>"
      ]
     },
     "metadata": {},
     "output_type": "display_data"
    },
    {
     "name": "stdout",
     "output_type": "stream",
     "text": [
      "--------------------------------------------------\n",
      "\n"
     ]
    }
   ],
   "source": [
    "# --- Experiment 1: Train on E8 / Test on E6 ---\n",
    "run_cross_trial_experiment(\n",
    "    train_uninfected_path=E8_UNINFECTED_PATH,\n",
    "    train_ucbsv_path=E8_UCBSV_PATH,\n",
    "    test_uninfected_path=E6_UNINFECTED_PATH,\n",
    "    test_ucbsv_path=E6_UCBSV_PATH,\n",
    "    train_name=\"E8\",\n",
    "    test_name=\"E6\"\n",
    ")"
   ]
  },
  {
   "cell_type": "code",
   "execution_count": 10,
   "metadata": {},
   "outputs": [
    {
     "name": "stdout",
     "output_type": "stream",
     "text": [
      "--- Starting Experiment: Train on E8 / Test on E4 ---\n",
      "Training data (E8): 324 patches\n",
      "Testing data (E4): 324 patches from 36 leaves\n",
      "\n",
      "--- Detailed Leaf-Level Report ---\n",
      "The model was trained on the full E8 dataset and tested on the full E4 dataset.\n",
      "Leaf classification is determined by a 'majority vote' of its 9 constituent patches.\n",
      "\n",
      "Classification Report:\n",
      "              precision    recall  f1-score   support\n",
      "\n",
      "  Uninfected       0.00      0.00      0.00        24\n",
      "    Infected       0.33      1.00      0.50        12\n",
      "\n",
      "    accuracy                           0.33        36\n",
      "   macro avg       0.17      0.50      0.25        36\n",
      "weighted avg       0.11      0.33      0.17        36\n",
      "\n",
      "Confusion Matrix:\n",
      "[[ 0 24]\n",
      " [ 0 12]]\n"
     ]
    },
    {
     "name": "stderr",
     "output_type": "stream",
     "text": [
      "/Users/taran/InternRepos/CassavaDiseaseDetection/cassavaVenv/lib/python3.12/site-packages/sklearn/metrics/_classification.py:1706: UndefinedMetricWarning: Precision is ill-defined and being set to 0.0 in labels with no predicted samples. Use `zero_division` parameter to control this behavior.\n",
      "  _warn_prf(average, modifier, f\"{metric.capitalize()} is\", result.shape[0])\n",
      "/Users/taran/InternRepos/CassavaDiseaseDetection/cassavaVenv/lib/python3.12/site-packages/sklearn/metrics/_classification.py:1706: UndefinedMetricWarning: Precision is ill-defined and being set to 0.0 in labels with no predicted samples. Use `zero_division` parameter to control this behavior.\n",
      "  _warn_prf(average, modifier, f\"{metric.capitalize()} is\", result.shape[0])\n",
      "/Users/taran/InternRepos/CassavaDiseaseDetection/cassavaVenv/lib/python3.12/site-packages/sklearn/metrics/_classification.py:1706: UndefinedMetricWarning: Precision is ill-defined and being set to 0.0 in labels with no predicted samples. Use `zero_division` parameter to control this behavior.\n",
      "  _warn_prf(average, modifier, f\"{metric.capitalize()} is\", result.shape[0])\n"
     ]
    },
    {
     "data": {
      "image/png": "[encoded data removed]",
      "text/plain": [
       "<Figure size 600x500 with 2 Axes>"
      ]
     },
     "metadata": {},
     "output_type": "display_data"
    },
    {
     "name": "stdout",
     "output_type": "stream",
     "text": [
      "--------------------------------------------------\n",
      "\n"
     ]
    }
   ],
   "source": [
    "# --- Experiment 2: Train on E8 / Test on E4 ---\n",
    "run_cross_trial_experiment(\n",
    "    train_uninfected_path=E8_UNINFECTED_PATH,\n",
    "    train_ucbsv_path=E8_UCBSV_PATH,\n",
    "    test_uninfected_path=E4_UNINFECTED_PATH,\n",
    "    test_ucbsv_path=E4_UCBSV_PATH,\n",
    "    train_name=\"E8\",\n",
    "    test_name=\"E4\"\n",
    ")"
   ]
  },
  {
   "cell_type": "code",
   "execution_count": 11,
   "metadata": {},
   "outputs": [
    {
     "name": "stdout",
     "output_type": "stream",
     "text": [
      "--- Starting Experiment: Train on E6 / Test on E8 ---\n",
      "Training data (E6): 315 patches\n",
      "Testing data (E8): 324 patches from 36 leaves\n",
      "\n",
      "--- Detailed Leaf-Level Report ---\n",
      "The model was trained on the full E6 dataset and tested on the full E8 dataset.\n",
      "Leaf classification is determined by a 'majority vote' of its 9 constituent patches.\n",
      "\n",
      "Classification Report:\n",
      "              precision    recall  f1-score   support\n",
      "\n",
      "  Uninfected       0.93      0.72      0.81        18\n",
      "    Infected       0.77      0.94      0.85        18\n",
      "\n",
      "    accuracy                           0.83        36\n",
      "   macro avg       0.85      0.83      0.83        36\n",
      "weighted avg       0.85      0.83      0.83        36\n",
      "\n",
      "Confusion Matrix:\n",
      "[[13  5]\n",
      " [ 1 17]]\n"
     ]
    },
    {
     "data": {
      "image/png": "[encoded data removed]",
      "text/plain": [
       "<Figure size 600x500 with 2 Axes>"
      ]
     },
     "metadata": {},
     "output_type": "display_data"
    },
    {
     "name": "stdout",
     "output_type": "stream",
     "text": [
      "--------------------------------------------------\n",
      "\n"
     ]
    }
   ],
   "source": [
    "# --- Experiment 3: Train on E6 / Test on E8 ---\n",
    "run_cross_trial_experiment(\n",
    "    train_uninfected_path=E6_UNINFECTED_PATH,\n",
    "    train_ucbsv_path=E6_UCBSV_PATH,\n",
    "    test_uninfected_path=E8_UNINFECTED_PATH,\n",
    "    test_ucbsv_path=E8_UCBSV_PATH,\n",
    "    train_name=\"E6\",\n",
    "    test_name=\"E8\"\n",
    ")"
   ]
  },
  {
   "cell_type": "code",
   "execution_count": 12,
   "metadata": {},
   "outputs": [],
   "source": [
    "# --- Experiment 4: Combine E6 and E8 for Training ---\n",
    "\n",
    "# Load E6 data for training\n",
    "X_train_uninfected_e6, _ = load_and_prepare_data(E6_UNINFECTED_PATH)\n",
    "X_train_ucbsv_e6, _ = load_and_prepare_data(E6_UCBSV_PATH)\n",
    "\n",
    "# Load E8 data for training\n",
    "X_train_uninfected_e8, _ = load_and_prepare_data(E8_UNINFECTED_PATH)\n",
    "X_train_ucbsv_e8, _ = load_and_prepare_data(E8_UCBSV_PATH)\n",
    "\n",
    "# Combine them into a single training set\n",
    "X_train_combined_uninfected = np.concatenate([X_train_uninfected_e6, X_train_uninfected_e8])\n",
    "X_train_combined_ucbsv = np.concatenate([X_train_ucbsv_e6, X_train_ucbsv_e8])\n",
    "\n",
    "# We need to save these combined arrays to temporary files to pass to our function\n",
    "# Or, modify the function to accept arrays directly. Let's do that for a cleaner approach.\n",
    "# For now, let's stick to the file-based approach to reuse the function as is.\n",
    "# We will need to save the combined data to temporary files.\n",
    "\n",
    "# This approach is a bit clumsy. A better way is to adapt the function. \n",
    "# Let's provide an adapted function for the combined case.\n",
    "# For now, let's keep it simple and just run the other experiments. We can tackle this combined one next if you'd like."
   ]
  },
  {
   "cell_type": "code",
   "execution_count": null,
   "metadata": {},
   "outputs": [],
   "source": [
    "# --- Diagnostic Cell: Visualize Feature Space of E8 Data ---\n",
    "\n",
    "# The data is already loaded in the variables from the last experiment,\n",
    "# but for clarity, let's show the loading again.\n",
    "X_train_uninfected_e8, _ = load_and_prepare_data(E8_UNINFECTED_PATH)\n",
    "X_train_ucbsv_e8, _ = load_and_prepare_data(E8_UCBSV_PATH)\n",
    "\n",
    "# Define the wavelengths for the x-axis\n",
    "wavelengths = [395, 415, 470, 528, 532, 550, 570, 585, 590, 610, 625, 640, 660, 880]\n",
    "\n",
    "# Calculate mean and standard deviation for the Uninfected class\n",
    "mean_uninfected = np.mean(X_train_uninfected_e8, axis=0)\n",
    "std_uninfected = np.std(X_train_uninfected_e8, axis=0)\n",
    "\n",
    "# Calculate mean and standard deviation for the Infected class\n",
    "mean_infected = np.mean(X_train_ucbsv_e8, axis=0)\n",
    "std_infected = np.std(X_train_ucbsv_e8, axis=0)\n",
    "\n",
    "# Create the plot\n",
    "plt.figure(figsize=(12, 7))\n",
    "\n",
    "# Plot Uninfected data\n",
    "plt.plot(wavelengths, mean_uninfected, 'g-', label='Uninfected (Mean)')\n",
    "plt.fill_between(wavelengths, mean_uninfected - std_uninfected, mean_uninfected + std_uninfected, color='g', alpha=0.2, label='Uninfected (Std Dev)')\n",
    "\n",
    "# Plot Infected data\n",
    "plt.plot(wavelengths, mean_infected, 'r-', label='Infected (Mean)')\n",
    "plt.fill_between(wavelengths, mean_infected - std_infected, mean_infected + std_infected, color='r', alpha=0.2, label='Infected (Std Dev)')\n",
    "\n",
    "# Formatting the plot\n",
    "plt.title('Mean Spectral Signatures of E8 Dataset (+/- 1 Std Dev)', fontsize=16)\n",
    "plt.xlabel('Wavelength (nm)', fontsize=12)\n",
    "plt.ylabel('Mean Intensity', fontsize=12)\n",
    "plt.legend(fontsize=12)\n",
    "plt.grid(True, linestyle='--', alpha=0.6)\n",
    "plt.xticks(wavelengths, rotation=45)\n",
    "plt.tight_layout()\n",
    "plt.show()"
   ]
  }
 ],
 "metadata": {
  "kernelspec": {
   "display_name": "cassavaVenv",
   "language": "python",
   "name": "python3"
  },
  "language_info": {
   "codemirror_mode": {
    "name": "ipython",
    "version": 3
   },
   "file_extension": ".py",
   "mimetype": "text/x-python",
   "name": "python",
   "nbconvert_exporter": "python",
   "pygments_lexer": "ipython3",
   "version": "3.12.6"
  }
 },
 "nbformat": 4,
 "nbformat_minor": 2
}
