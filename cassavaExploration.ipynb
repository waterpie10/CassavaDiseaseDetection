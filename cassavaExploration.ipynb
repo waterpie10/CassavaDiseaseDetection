{
 "cells": [
  {
   "cell_type": "markdown",
   "metadata": {},
   "source": [
    "# Recreating cassava disease detection using an SVM"
   ]
  }
 ],
 "metadata": {
  "kernelspec": {
   "display_name": "cassavaVenv",
   "language": "python",
   "name": "python3"
  },
  "language_info": {
   "name": "python",
   "version": "3.12.6"
  }
 },
 "nbformat": 4,
 "nbformat_minor": 2
}
